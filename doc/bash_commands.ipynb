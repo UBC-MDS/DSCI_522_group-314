{
 "cells": [
  {
   "cell_type": "code",
   "execution_count": 3,
   "metadata": {},
   "outputs": [
    {
     "name": "stderr",
     "output_type": "stream",
     "text": [
      "[NbConvertApp] Converting notebook final_report.ipynb to html_embed\n",
      "[NbConvertApp] Executing notebook with kernel: python3\n",
      "[NbConvertApp] try embedding url: ../results/num_corr_chart.png, format: png\n",
      "[NbConvertApp] try embedding url: ../results/num_res_chart.png, format: png\n",
      "[NbConvertApp] try embedding url: ../results/confusion_matrix.png, format: png\n",
      "[NbConvertApp] try embedding url: ../results_baseline/confusion_matrix.png, format: png\n",
      "[NbConvertApp] try embedding url: ../results/roc.png, format: png\n",
      "[NbConvertApp] Writing 1492000 bytes to final_report.html\n"
     ]
    }
   ],
   "source": [
    "%%bash\n",
    "jupyter nbconvert --execute  final_report.ipynb --to html_embed \n"
   ]
  },
  {
   "cell_type": "code",
   "execution_count": null,
   "metadata": {},
   "outputs": [],
   "source": []
  }
 ],
 "metadata": {
  "kernelspec": {
   "display_name": "Python 3",
   "language": "python",
   "name": "python3"
  },
  "language_info": {
   "codemirror_mode": {
    "name": "ipython",
    "version": 3
   },
   "file_extension": ".py",
   "mimetype": "text/x-python",
   "name": "python",
   "nbconvert_exporter": "python",
   "pygments_lexer": "ipython3",
   "version": "3.7.3"
  }
 },
 "nbformat": 4,
 "nbformat_minor": 4
}
