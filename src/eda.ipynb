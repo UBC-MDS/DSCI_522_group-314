{
 "cells": [
  {
   "cell_type": "code",
   "execution_count": 1,
   "metadata": {},
   "outputs": [
    {
     "data": {
      "text/plain": [
       "DataTransformerRegistry.enable('json')"
      ]
     },
     "execution_count": 1,
     "metadata": {},
     "output_type": "execute_result"
    }
   ],
   "source": [
    "import pandas as pd\n",
    "from sklearn.model_selection import train_test_split\n",
    "import altair as alt\n",
    "alt.data_transformers.enable('json')\n",
    "#alt.renderers.enable('notebook')"
   ]
  },
  {
   "cell_type": "markdown",
   "metadata": {},
   "source": [
    "# Data description\n",
    "\n",
    "The dataset we are analyzing is from [UCI machine learning repository](https://archive.ics.uci.edu/ml/datasets/default+of+credit+card+clients). It's about customers default payments in Taiwan, if the customer will fail to pay in October 2005(`DEFAULT_NEXT_MONTH`). There are 30,000 instances in total and 23 exploratory variables about customers' payment, bill histories and demographic factors. Details are as below according to the data description from UCI,\n",
    "\n",
    "- `LIMIT_BAL`: Amount of the given credit (NT dollar): it includes both the individual consumer credit and his/her family (supplementary) credit. \n",
    "- `SEX`: Gender(1 = male; 2 = female).\n",
    "- `EDUCATION`: Education (1 = graduate school; 2 = university; 3 = high school; 4 = others). \n",
    "- `MARRIAGE`: Marital status (1 = married; 2 = single; 3 = others).  \n",
    "- `AGE`: Age (year).  \n",
    "- `PAY_1`, `PAY_2`, ..., `PAY_6`: Past monthly repayment status in September 2005, August 2005, ..., April 2005 respectively. ( -1 = pay duly; 1 = payment delay for one month; 2 = payment delay for two months; . . .; 8 = payment delay for eight months; 9 = payment delay for nine months and above.)  \n",
    "- `BILL_AMT1`, `BILL_AMT2`, ..., `BILL_AMT6`: Amount of bill statement (NT dollar) in September 2005, August 2005, ..., April 2005 respectively.  \n",
    "- `PAY_AMT1`, `PAY_AMT2`, ..., `PAY_AMT6`: Amount of previous payment (NT dollar) in September 2005, August 2005, ..., April 2005 respectively.  \n",
    "\n",
    "We are interested to build a good model to predict if the customers will default in the next month which is in October 2005 accurately and thus find out what features strongly predict default payment from the model."
   ]
  },
  {
   "cell_type": "markdown",
   "metadata": {},
   "source": [
    "# Read in the data"
   ]
  },
  {
   "cell_type": "code",
   "execution_count": 2,
   "metadata": {},
   "outputs": [],
   "source": [
    "df = pd.read_csv('../data/cedit_default_data.csv', index_col=1, skiprows=1)\n",
    "df = df.drop(columns=['0'])\n",
    "df = df.rename(columns={'default payment next month':'DEFAULT_NEXT_MONTH',\n",
    "                        'PAY_0': 'PAY_1'})"
   ]
  },
  {
   "cell_type": "code",
   "execution_count": 3,
   "metadata": {},
   "outputs": [],
   "source": [
    "assert df.shape[0] == 30000\n",
    "assert df.shape[1] == 24\n",
    "assert set(df.columns) == set(['LIMIT_BAL', 'SEX', 'EDUCATION', 'MARRIAGE', 'AGE', 'PAY_1', 'PAY_2',\n",
    "       'PAY_3', 'PAY_4', 'PAY_5', 'PAY_6', 'BILL_AMT1', 'BILL_AMT2',\n",
    "       'BILL_AMT3', 'BILL_AMT4', 'BILL_AMT5', 'BILL_AMT6', 'PAY_AMT1',\n",
    "       'PAY_AMT2', 'PAY_AMT3', 'PAY_AMT4', 'PAY_AMT5', 'PAY_AMT6',\n",
    "       'DEFAULT_NEXT_MONTH'])"
   ]
  },
  {
   "cell_type": "code",
   "execution_count": 4,
   "metadata": {},
   "outputs": [
    {
     "data": {
      "text/html": [
       "<div>\n",
       "<style scoped>\n",
       "    .dataframe tbody tr th:only-of-type {\n",
       "        vertical-align: middle;\n",
       "    }\n",
       "\n",
       "    .dataframe tbody tr th {\n",
       "        vertical-align: top;\n",
       "    }\n",
       "\n",
       "    .dataframe thead th {\n",
       "        text-align: right;\n",
       "    }\n",
       "</style>\n",
       "<table border=\"1\" class=\"dataframe\">\n",
       "  <thead>\n",
       "    <tr style=\"text-align: right;\">\n",
       "      <th></th>\n",
       "      <th>LIMIT_BAL</th>\n",
       "      <th>SEX</th>\n",
       "      <th>EDUCATION</th>\n",
       "      <th>MARRIAGE</th>\n",
       "      <th>AGE</th>\n",
       "      <th>PAY_1</th>\n",
       "      <th>PAY_2</th>\n",
       "      <th>PAY_3</th>\n",
       "      <th>PAY_4</th>\n",
       "      <th>PAY_5</th>\n",
       "      <th>...</th>\n",
       "      <th>BILL_AMT4</th>\n",
       "      <th>BILL_AMT5</th>\n",
       "      <th>BILL_AMT6</th>\n",
       "      <th>PAY_AMT1</th>\n",
       "      <th>PAY_AMT2</th>\n",
       "      <th>PAY_AMT3</th>\n",
       "      <th>PAY_AMT4</th>\n",
       "      <th>PAY_AMT5</th>\n",
       "      <th>PAY_AMT6</th>\n",
       "      <th>DEFAULT_NEXT_MONTH</th>\n",
       "    </tr>\n",
       "    <tr>\n",
       "      <th>ID</th>\n",
       "      <th></th>\n",
       "      <th></th>\n",
       "      <th></th>\n",
       "      <th></th>\n",
       "      <th></th>\n",
       "      <th></th>\n",
       "      <th></th>\n",
       "      <th></th>\n",
       "      <th></th>\n",
       "      <th></th>\n",
       "      <th></th>\n",
       "      <th></th>\n",
       "      <th></th>\n",
       "      <th></th>\n",
       "      <th></th>\n",
       "      <th></th>\n",
       "      <th></th>\n",
       "      <th></th>\n",
       "      <th></th>\n",
       "      <th></th>\n",
       "      <th></th>\n",
       "    </tr>\n",
       "  </thead>\n",
       "  <tbody>\n",
       "    <tr>\n",
       "      <th>29996</th>\n",
       "      <td>220000</td>\n",
       "      <td>1</td>\n",
       "      <td>3</td>\n",
       "      <td>1</td>\n",
       "      <td>39</td>\n",
       "      <td>0</td>\n",
       "      <td>0</td>\n",
       "      <td>0</td>\n",
       "      <td>0</td>\n",
       "      <td>0</td>\n",
       "      <td>...</td>\n",
       "      <td>88004</td>\n",
       "      <td>31237</td>\n",
       "      <td>15980</td>\n",
       "      <td>8500</td>\n",
       "      <td>20000</td>\n",
       "      <td>5003</td>\n",
       "      <td>3047</td>\n",
       "      <td>5000</td>\n",
       "      <td>1000</td>\n",
       "      <td>0</td>\n",
       "    </tr>\n",
       "    <tr>\n",
       "      <th>29997</th>\n",
       "      <td>150000</td>\n",
       "      <td>1</td>\n",
       "      <td>3</td>\n",
       "      <td>2</td>\n",
       "      <td>43</td>\n",
       "      <td>-1</td>\n",
       "      <td>-1</td>\n",
       "      <td>-1</td>\n",
       "      <td>-1</td>\n",
       "      <td>0</td>\n",
       "      <td>...</td>\n",
       "      <td>8979</td>\n",
       "      <td>5190</td>\n",
       "      <td>0</td>\n",
       "      <td>1837</td>\n",
       "      <td>3526</td>\n",
       "      <td>8998</td>\n",
       "      <td>129</td>\n",
       "      <td>0</td>\n",
       "      <td>0</td>\n",
       "      <td>0</td>\n",
       "    </tr>\n",
       "    <tr>\n",
       "      <th>29998</th>\n",
       "      <td>30000</td>\n",
       "      <td>1</td>\n",
       "      <td>2</td>\n",
       "      <td>2</td>\n",
       "      <td>37</td>\n",
       "      <td>4</td>\n",
       "      <td>3</td>\n",
       "      <td>2</td>\n",
       "      <td>-1</td>\n",
       "      <td>0</td>\n",
       "      <td>...</td>\n",
       "      <td>20878</td>\n",
       "      <td>20582</td>\n",
       "      <td>19357</td>\n",
       "      <td>0</td>\n",
       "      <td>0</td>\n",
       "      <td>22000</td>\n",
       "      <td>4200</td>\n",
       "      <td>2000</td>\n",
       "      <td>3100</td>\n",
       "      <td>1</td>\n",
       "    </tr>\n",
       "    <tr>\n",
       "      <th>29999</th>\n",
       "      <td>80000</td>\n",
       "      <td>1</td>\n",
       "      <td>3</td>\n",
       "      <td>1</td>\n",
       "      <td>41</td>\n",
       "      <td>1</td>\n",
       "      <td>-1</td>\n",
       "      <td>0</td>\n",
       "      <td>0</td>\n",
       "      <td>0</td>\n",
       "      <td>...</td>\n",
       "      <td>52774</td>\n",
       "      <td>11855</td>\n",
       "      <td>48944</td>\n",
       "      <td>85900</td>\n",
       "      <td>3409</td>\n",
       "      <td>1178</td>\n",
       "      <td>1926</td>\n",
       "      <td>52964</td>\n",
       "      <td>1804</td>\n",
       "      <td>1</td>\n",
       "    </tr>\n",
       "    <tr>\n",
       "      <th>30000</th>\n",
       "      <td>50000</td>\n",
       "      <td>1</td>\n",
       "      <td>2</td>\n",
       "      <td>1</td>\n",
       "      <td>46</td>\n",
       "      <td>0</td>\n",
       "      <td>0</td>\n",
       "      <td>0</td>\n",
       "      <td>0</td>\n",
       "      <td>0</td>\n",
       "      <td>...</td>\n",
       "      <td>36535</td>\n",
       "      <td>32428</td>\n",
       "      <td>15313</td>\n",
       "      <td>2078</td>\n",
       "      <td>1800</td>\n",
       "      <td>1430</td>\n",
       "      <td>1000</td>\n",
       "      <td>1000</td>\n",
       "      <td>1000</td>\n",
       "      <td>1</td>\n",
       "    </tr>\n",
       "  </tbody>\n",
       "</table>\n",
       "<p>5 rows × 24 columns</p>\n",
       "</div>"
      ],
      "text/plain": [
       "       LIMIT_BAL  SEX  EDUCATION  MARRIAGE  AGE  PAY_1  PAY_2  PAY_3  PAY_4  \\\n",
       "ID                                                                            \n",
       "29996     220000    1          3         1   39      0      0      0      0   \n",
       "29997     150000    1          3         2   43     -1     -1     -1     -1   \n",
       "29998      30000    1          2         2   37      4      3      2     -1   \n",
       "29999      80000    1          3         1   41      1     -1      0      0   \n",
       "30000      50000    1          2         1   46      0      0      0      0   \n",
       "\n",
       "       PAY_5  ...  BILL_AMT4  BILL_AMT5  BILL_AMT6  PAY_AMT1  PAY_AMT2  \\\n",
       "ID            ...                                                        \n",
       "29996      0  ...      88004      31237      15980      8500     20000   \n",
       "29997      0  ...       8979       5190          0      1837      3526   \n",
       "29998      0  ...      20878      20582      19357         0         0   \n",
       "29999      0  ...      52774      11855      48944     85900      3409   \n",
       "30000      0  ...      36535      32428      15313      2078      1800   \n",
       "\n",
       "       PAY_AMT3  PAY_AMT4  PAY_AMT5  PAY_AMT6  DEFAULT_NEXT_MONTH  \n",
       "ID                                                                 \n",
       "29996      5003      3047      5000      1000                   0  \n",
       "29997      8998       129         0         0                   0  \n",
       "29998     22000      4200      2000      3100                   1  \n",
       "29999      1178      1926     52964      1804                   1  \n",
       "30000      1430      1000      1000      1000                   1  \n",
       "\n",
       "[5 rows x 24 columns]"
      ]
     },
     "execution_count": 4,
     "metadata": {},
     "output_type": "execute_result"
    }
   ],
   "source": [
    "df.tail()"
   ]
  },
  {
   "cell_type": "markdown",
   "metadata": {},
   "source": [
    "# Data overview"
   ]
  },
  {
   "cell_type": "code",
   "execution_count": 5,
   "metadata": {},
   "outputs": [],
   "source": [
    "X = df.drop(columns=['DEFAULT_NEXT_MONTH'])\n",
    "y = df['DEFAULT_NEXT_MONTH']"
   ]
  },
  {
   "cell_type": "code",
   "execution_count": 6,
   "metadata": {},
   "outputs": [
    {
     "name": "stdout",
     "output_type": "stream",
     "text": [
      "Number of train examples:  22500\n",
      "Number of test examples:  7500\n"
     ]
    }
   ],
   "source": [
    "##split the data to training and test set and do EDA on the training set only\n",
    "X_train, X_test, y_train, y_test = train_test_split(X, y, test_size=0.25, random_state=122)\n",
    "print('Number of train examples: ', len(y_train))\n",
    "print('Number of test examples: ', len(y_test))"
   ]
  },
  {
   "cell_type": "code",
   "execution_count": 7,
   "metadata": {},
   "outputs": [],
   "source": [
    "numeric_features = ['LIMIT_BAL', 'AGE', 'BILL_AMT1', 'BILL_AMT2',\n",
    "       'BILL_AMT3', 'BILL_AMT4', 'BILL_AMT5', 'BILL_AMT6', 'PAY_AMT1',\n",
    "       'PAY_AMT2', 'PAY_AMT3', 'PAY_AMT4', 'PAY_AMT5', 'PAY_AMT6']\n",
    "\n",
    "categorical_features = ['SEX', 'EDUCATION', 'MARRIAGE', 'PAY_1', 'PAY_2',\n",
    "       'PAY_3', 'PAY_4', 'PAY_5', 'PAY_6']"
   ]
  },
  {
   "cell_type": "code",
   "execution_count": 8,
   "metadata": {},
   "outputs": [
    {
     "data": {
      "text/html": [
       "<div>\n",
       "<style scoped>\n",
       "    .dataframe tbody tr th:only-of-type {\n",
       "        vertical-align: middle;\n",
       "    }\n",
       "\n",
       "    .dataframe tbody tr th {\n",
       "        vertical-align: top;\n",
       "    }\n",
       "\n",
       "    .dataframe thead th {\n",
       "        text-align: right;\n",
       "    }\n",
       "</style>\n",
       "<table border=\"1\" class=\"dataframe\">\n",
       "  <thead>\n",
       "    <tr style=\"text-align: right;\">\n",
       "      <th></th>\n",
       "      <th>LIMIT_BAL</th>\n",
       "      <th>AGE</th>\n",
       "      <th>BILL_AMT1</th>\n",
       "      <th>BILL_AMT2</th>\n",
       "      <th>BILL_AMT3</th>\n",
       "      <th>BILL_AMT4</th>\n",
       "      <th>BILL_AMT5</th>\n",
       "      <th>BILL_AMT6</th>\n",
       "      <th>PAY_AMT1</th>\n",
       "      <th>PAY_AMT2</th>\n",
       "      <th>PAY_AMT3</th>\n",
       "      <th>PAY_AMT4</th>\n",
       "      <th>PAY_AMT5</th>\n",
       "      <th>PAY_AMT6</th>\n",
       "    </tr>\n",
       "  </thead>\n",
       "  <tbody>\n",
       "    <tr>\n",
       "      <th>count</th>\n",
       "      <td>22500.000000</td>\n",
       "      <td>22500.000000</td>\n",
       "      <td>22500.00000</td>\n",
       "      <td>22500.000000</td>\n",
       "      <td>22500.000000</td>\n",
       "      <td>22500.000000</td>\n",
       "      <td>22500.000000</td>\n",
       "      <td>22500.000000</td>\n",
       "      <td>22500.000000</td>\n",
       "      <td>2.250000e+04</td>\n",
       "      <td>22500.000000</td>\n",
       "      <td>22500.000000</td>\n",
       "      <td>22500.000000</td>\n",
       "      <td>22500.000000</td>\n",
       "    </tr>\n",
       "    <tr>\n",
       "      <th>mean</th>\n",
       "      <td>167229.763556</td>\n",
       "      <td>35.487022</td>\n",
       "      <td>50992.89800</td>\n",
       "      <td>48905.718978</td>\n",
       "      <td>46629.685644</td>\n",
       "      <td>42932.418844</td>\n",
       "      <td>39905.282444</td>\n",
       "      <td>38385.688222</td>\n",
       "      <td>5714.377733</td>\n",
       "      <td>5.848260e+03</td>\n",
       "      <td>5132.902667</td>\n",
       "      <td>4728.448311</td>\n",
       "      <td>4725.760978</td>\n",
       "      <td>5282.126533</td>\n",
       "    </tr>\n",
       "    <tr>\n",
       "      <th>std</th>\n",
       "      <td>129384.485693</td>\n",
       "      <td>9.182223</td>\n",
       "      <td>73064.68632</td>\n",
       "      <td>70748.066294</td>\n",
       "      <td>68376.985307</td>\n",
       "      <td>63802.950987</td>\n",
       "      <td>60135.853082</td>\n",
       "      <td>58733.428102</td>\n",
       "      <td>17078.235838</td>\n",
       "      <td>2.191690e+04</td>\n",
       "      <td>16892.473653</td>\n",
       "      <td>15430.720628</td>\n",
       "      <td>15138.455175</td>\n",
       "      <td>18506.384982</td>\n",
       "    </tr>\n",
       "    <tr>\n",
       "      <th>min</th>\n",
       "      <td>10000.000000</td>\n",
       "      <td>21.000000</td>\n",
       "      <td>-165580.00000</td>\n",
       "      <td>-69777.000000</td>\n",
       "      <td>-157264.000000</td>\n",
       "      <td>-170000.000000</td>\n",
       "      <td>-81334.000000</td>\n",
       "      <td>-339603.000000</td>\n",
       "      <td>0.000000</td>\n",
       "      <td>0.000000e+00</td>\n",
       "      <td>0.000000</td>\n",
       "      <td>0.000000</td>\n",
       "      <td>0.000000</td>\n",
       "      <td>0.000000</td>\n",
       "    </tr>\n",
       "    <tr>\n",
       "      <th>25%</th>\n",
       "      <td>50000.000000</td>\n",
       "      <td>28.000000</td>\n",
       "      <td>3565.75000</td>\n",
       "      <td>2928.000000</td>\n",
       "      <td>2577.000000</td>\n",
       "      <td>2313.000000</td>\n",
       "      <td>1711.750000</td>\n",
       "      <td>1190.000000</td>\n",
       "      <td>990.000000</td>\n",
       "      <td>8.000000e+02</td>\n",
       "      <td>390.000000</td>\n",
       "      <td>285.750000</td>\n",
       "      <td>238.000000</td>\n",
       "      <td>119.750000</td>\n",
       "    </tr>\n",
       "    <tr>\n",
       "      <th>50%</th>\n",
       "      <td>140000.000000</td>\n",
       "      <td>34.000000</td>\n",
       "      <td>22169.00000</td>\n",
       "      <td>20859.000000</td>\n",
       "      <td>19889.000000</td>\n",
       "      <td>18855.500000</td>\n",
       "      <td>17875.000000</td>\n",
       "      <td>16715.000000</td>\n",
       "      <td>2100.000000</td>\n",
       "      <td>2.001000e+03</td>\n",
       "      <td>1800.000000</td>\n",
       "      <td>1500.000000</td>\n",
       "      <td>1500.000000</td>\n",
       "      <td>1500.000000</td>\n",
       "    </tr>\n",
       "    <tr>\n",
       "      <th>75%</th>\n",
       "      <td>240000.000000</td>\n",
       "      <td>41.000000</td>\n",
       "      <td>66732.75000</td>\n",
       "      <td>63104.250000</td>\n",
       "      <td>59532.500000</td>\n",
       "      <td>53339.500000</td>\n",
       "      <td>49743.000000</td>\n",
       "      <td>48863.500000</td>\n",
       "      <td>5006.000000</td>\n",
       "      <td>5.000000e+03</td>\n",
       "      <td>4512.000000</td>\n",
       "      <td>4000.000000</td>\n",
       "      <td>4000.000000</td>\n",
       "      <td>4000.000000</td>\n",
       "    </tr>\n",
       "    <tr>\n",
       "      <th>max</th>\n",
       "      <td>800000.000000</td>\n",
       "      <td>75.000000</td>\n",
       "      <td>746814.00000</td>\n",
       "      <td>743970.000000</td>\n",
       "      <td>855086.000000</td>\n",
       "      <td>616836.000000</td>\n",
       "      <td>587067.000000</td>\n",
       "      <td>568638.000000</td>\n",
       "      <td>873552.000000</td>\n",
       "      <td>1.227082e+06</td>\n",
       "      <td>889043.000000</td>\n",
       "      <td>621000.000000</td>\n",
       "      <td>426529.000000</td>\n",
       "      <td>528666.000000</td>\n",
       "    </tr>\n",
       "  </tbody>\n",
       "</table>\n",
       "</div>"
      ],
      "text/plain": [
       "           LIMIT_BAL           AGE     BILL_AMT1      BILL_AMT2  \\\n",
       "count   22500.000000  22500.000000   22500.00000   22500.000000   \n",
       "mean   167229.763556     35.487022   50992.89800   48905.718978   \n",
       "std    129384.485693      9.182223   73064.68632   70748.066294   \n",
       "min     10000.000000     21.000000 -165580.00000  -69777.000000   \n",
       "25%     50000.000000     28.000000    3565.75000    2928.000000   \n",
       "50%    140000.000000     34.000000   22169.00000   20859.000000   \n",
       "75%    240000.000000     41.000000   66732.75000   63104.250000   \n",
       "max    800000.000000     75.000000  746814.00000  743970.000000   \n",
       "\n",
       "           BILL_AMT3      BILL_AMT4      BILL_AMT5      BILL_AMT6  \\\n",
       "count   22500.000000   22500.000000   22500.000000   22500.000000   \n",
       "mean    46629.685644   42932.418844   39905.282444   38385.688222   \n",
       "std     68376.985307   63802.950987   60135.853082   58733.428102   \n",
       "min   -157264.000000 -170000.000000  -81334.000000 -339603.000000   \n",
       "25%      2577.000000    2313.000000    1711.750000    1190.000000   \n",
       "50%     19889.000000   18855.500000   17875.000000   16715.000000   \n",
       "75%     59532.500000   53339.500000   49743.000000   48863.500000   \n",
       "max    855086.000000  616836.000000  587067.000000  568638.000000   \n",
       "\n",
       "            PAY_AMT1      PAY_AMT2       PAY_AMT3       PAY_AMT4  \\\n",
       "count   22500.000000  2.250000e+04   22500.000000   22500.000000   \n",
       "mean     5714.377733  5.848260e+03    5132.902667    4728.448311   \n",
       "std     17078.235838  2.191690e+04   16892.473653   15430.720628   \n",
       "min         0.000000  0.000000e+00       0.000000       0.000000   \n",
       "25%       990.000000  8.000000e+02     390.000000     285.750000   \n",
       "50%      2100.000000  2.001000e+03    1800.000000    1500.000000   \n",
       "75%      5006.000000  5.000000e+03    4512.000000    4000.000000   \n",
       "max    873552.000000  1.227082e+06  889043.000000  621000.000000   \n",
       "\n",
       "            PAY_AMT5       PAY_AMT6  \n",
       "count   22500.000000   22500.000000  \n",
       "mean     4725.760978    5282.126533  \n",
       "std     15138.455175   18506.384982  \n",
       "min         0.000000       0.000000  \n",
       "25%       238.000000     119.750000  \n",
       "50%      1500.000000    1500.000000  \n",
       "75%      4000.000000    4000.000000  \n",
       "max    426529.000000  528666.000000  "
      ]
     },
     "execution_count": 8,
     "metadata": {},
     "output_type": "execute_result"
    }
   ],
   "source": [
    "X_train[numeric_features].describe()"
   ]
  },
  {
   "cell_type": "markdown",
   "metadata": {},
   "source": [
    "According tho the above table, we can see mean, standard deviation, min, max etc. Good thing is that there's no N/A. The bill amount, payment amount and credit limit ranges are roughly similar which are around 8 million. It's interesting that The medians for the bill statement amounts are around 20,000, but the medians for payment amounts are 2,000. Age ranges from 21 to 75 which is reasonable."
   ]
  },
  {
   "cell_type": "markdown",
   "metadata": {},
   "source": [
    "However, there are so many negative numbers for bill amount. Let's see if that's some kind of errors. I pulled some rows that have negative values at `BILL_AMT6'."
   ]
  },
  {
   "cell_type": "code",
   "execution_count": 42,
   "metadata": {},
   "outputs": [
    {
     "data": {
      "text/html": [
       "<div>\n",
       "<style scoped>\n",
       "    .dataframe tbody tr th:only-of-type {\n",
       "        vertical-align: middle;\n",
       "    }\n",
       "\n",
       "    .dataframe tbody tr th {\n",
       "        vertical-align: top;\n",
       "    }\n",
       "\n",
       "    .dataframe thead th {\n",
       "        text-align: right;\n",
       "    }\n",
       "</style>\n",
       "<table border=\"1\" class=\"dataframe\">\n",
       "  <thead>\n",
       "    <tr style=\"text-align: right;\">\n",
       "      <th></th>\n",
       "      <th>LIMIT_BAL</th>\n",
       "      <th>AGE</th>\n",
       "      <th>BILL_AMT1</th>\n",
       "      <th>BILL_AMT2</th>\n",
       "      <th>BILL_AMT3</th>\n",
       "      <th>BILL_AMT4</th>\n",
       "      <th>BILL_AMT5</th>\n",
       "      <th>BILL_AMT6</th>\n",
       "      <th>PAY_AMT1</th>\n",
       "      <th>PAY_AMT2</th>\n",
       "      <th>PAY_AMT3</th>\n",
       "      <th>PAY_AMT4</th>\n",
       "      <th>PAY_AMT5</th>\n",
       "      <th>PAY_AMT6</th>\n",
       "      <th>DEFAULT_NEXT_MONTH</th>\n",
       "    </tr>\n",
       "    <tr>\n",
       "      <th>ID</th>\n",
       "      <th></th>\n",
       "      <th></th>\n",
       "      <th></th>\n",
       "      <th></th>\n",
       "      <th></th>\n",
       "      <th></th>\n",
       "      <th></th>\n",
       "      <th></th>\n",
       "      <th></th>\n",
       "      <th></th>\n",
       "      <th></th>\n",
       "      <th></th>\n",
       "      <th></th>\n",
       "      <th></th>\n",
       "      <th></th>\n",
       "    </tr>\n",
       "  </thead>\n",
       "  <tbody>\n",
       "    <tr>\n",
       "      <th>291</th>\n",
       "      <td>280000</td>\n",
       "      <td>33</td>\n",
       "      <td>898</td>\n",
       "      <td>898</td>\n",
       "      <td>325</td>\n",
       "      <td>898</td>\n",
       "      <td>325</td>\n",
       "      <td>-339603</td>\n",
       "      <td>898</td>\n",
       "      <td>325</td>\n",
       "      <td>898</td>\n",
       "      <td>325</td>\n",
       "      <td>0</td>\n",
       "      <td>345293</td>\n",
       "      <td>1</td>\n",
       "    </tr>\n",
       "    <tr>\n",
       "      <th>3526</th>\n",
       "      <td>140000</td>\n",
       "      <td>28</td>\n",
       "      <td>3234</td>\n",
       "      <td>4324</td>\n",
       "      <td>5477</td>\n",
       "      <td>4490</td>\n",
       "      <td>1500</td>\n",
       "      <td>-51183</td>\n",
       "      <td>4340</td>\n",
       "      <td>5491</td>\n",
       "      <td>2013</td>\n",
       "      <td>1510</td>\n",
       "      <td>18</td>\n",
       "      <td>89898</td>\n",
       "      <td>0</td>\n",
       "    </tr>\n",
       "    <tr>\n",
       "      <th>12389</th>\n",
       "      <td>450000</td>\n",
       "      <td>37</td>\n",
       "      <td>1212</td>\n",
       "      <td>791</td>\n",
       "      <td>2663</td>\n",
       "      <td>783</td>\n",
       "      <td>1730</td>\n",
       "      <td>-51443</td>\n",
       "      <td>1032</td>\n",
       "      <td>2663</td>\n",
       "      <td>783</td>\n",
       "      <td>1730</td>\n",
       "      <td>0</td>\n",
       "      <td>70803</td>\n",
       "      <td>1</td>\n",
       "    </tr>\n",
       "    <tr>\n",
       "      <th>12829</th>\n",
       "      <td>100000</td>\n",
       "      <td>25</td>\n",
       "      <td>100000</td>\n",
       "      <td>0</td>\n",
       "      <td>0</td>\n",
       "      <td>0</td>\n",
       "      <td>0</td>\n",
       "      <td>-150953</td>\n",
       "      <td>0</td>\n",
       "      <td>0</td>\n",
       "      <td>0</td>\n",
       "      <td>0</td>\n",
       "      <td>0</td>\n",
       "      <td>150400</td>\n",
       "      <td>0</td>\n",
       "    </tr>\n",
       "    <tr>\n",
       "      <th>26098</th>\n",
       "      <td>290000</td>\n",
       "      <td>33</td>\n",
       "      <td>11303</td>\n",
       "      <td>17493</td>\n",
       "      <td>21036</td>\n",
       "      <td>17391</td>\n",
       "      <td>16348</td>\n",
       "      <td>-209051</td>\n",
       "      <td>17654</td>\n",
       "      <td>11068</td>\n",
       "      <td>7600</td>\n",
       "      <td>3352</td>\n",
       "      <td>6104</td>\n",
       "      <td>261883</td>\n",
       "      <td>0</td>\n",
       "    </tr>\n",
       "    <tr>\n",
       "      <th>27081</th>\n",
       "      <td>290000</td>\n",
       "      <td>38</td>\n",
       "      <td>2318</td>\n",
       "      <td>1818</td>\n",
       "      <td>2057</td>\n",
       "      <td>2278</td>\n",
       "      <td>1224</td>\n",
       "      <td>-57060</td>\n",
       "      <td>1827</td>\n",
       "      <td>2066</td>\n",
       "      <td>2287</td>\n",
       "      <td>1242</td>\n",
       "      <td>1827</td>\n",
       "      <td>60860</td>\n",
       "      <td>0</td>\n",
       "    </tr>\n",
       "    <tr>\n",
       "      <th>28920</th>\n",
       "      <td>180000</td>\n",
       "      <td>40</td>\n",
       "      <td>34483</td>\n",
       "      <td>21142</td>\n",
       "      <td>11279</td>\n",
       "      <td>5698</td>\n",
       "      <td>5993</td>\n",
       "      <td>-73895</td>\n",
       "      <td>22864</td>\n",
       "      <td>1133</td>\n",
       "      <td>1000</td>\n",
       "      <td>1000</td>\n",
       "      <td>0</td>\n",
       "      <td>159000</td>\n",
       "      <td>0</td>\n",
       "    </tr>\n",
       "    <tr>\n",
       "      <th>29492</th>\n",
       "      <td>320000</td>\n",
       "      <td>31</td>\n",
       "      <td>-6029</td>\n",
       "      <td>-9119</td>\n",
       "      <td>-46127</td>\n",
       "      <td>-50616</td>\n",
       "      <td>-53007</td>\n",
       "      <td>-94625</td>\n",
       "      <td>185</td>\n",
       "      <td>28</td>\n",
       "      <td>12</td>\n",
       "      <td>208</td>\n",
       "      <td>8</td>\n",
       "      <td>14</td>\n",
       "      <td>1</td>\n",
       "    </tr>\n",
       "  </tbody>\n",
       "</table>\n",
       "</div>"
      ],
      "text/plain": [
       "       LIMIT_BAL  AGE  BILL_AMT1  BILL_AMT2  BILL_AMT3  BILL_AMT4  BILL_AMT5  \\\n",
       "ID                                                                             \n",
       "291       280000   33        898        898        325        898        325   \n",
       "3526      140000   28       3234       4324       5477       4490       1500   \n",
       "12389     450000   37       1212        791       2663        783       1730   \n",
       "12829     100000   25     100000          0          0          0          0   \n",
       "26098     290000   33      11303      17493      21036      17391      16348   \n",
       "27081     290000   38       2318       1818       2057       2278       1224   \n",
       "28920     180000   40      34483      21142      11279       5698       5993   \n",
       "29492     320000   31      -6029      -9119     -46127     -50616     -53007   \n",
       "\n",
       "       BILL_AMT6  PAY_AMT1  PAY_AMT2  PAY_AMT3  PAY_AMT4  PAY_AMT5  PAY_AMT6  \\\n",
       "ID                                                                             \n",
       "291      -339603       898       325       898       325         0    345293   \n",
       "3526      -51183      4340      5491      2013      1510        18     89898   \n",
       "12389     -51443      1032      2663       783      1730         0     70803   \n",
       "12829    -150953         0         0         0         0         0    150400   \n",
       "26098    -209051     17654     11068      7600      3352      6104    261883   \n",
       "27081     -57060      1827      2066      2287      1242      1827     60860   \n",
       "28920     -73895     22864      1133      1000      1000         0    159000   \n",
       "29492     -94625       185        28        12       208         8        14   \n",
       "\n",
       "       DEFAULT_NEXT_MONTH  \n",
       "ID                         \n",
       "291                     1  \n",
       "3526                    0  \n",
       "12389                   1  \n",
       "12829                   0  \n",
       "26098                   0  \n",
       "27081                   0  \n",
       "28920                   0  \n",
       "29492                   1  "
      ]
     },
     "execution_count": 42,
     "metadata": {},
     "output_type": "execute_result"
    }
   ],
   "source": [
    "df_neg = df[df.BILL_AMT6<-50000][numeric_features].copy()\n",
    "df_neg['DEFAULT_NEXT_MONTH'] = df[df.BILL_AMT6<-50000]['DEFAULT_NEXT_MONTH']\n",
    "df_neg"
   ]
  },
  {
   "cell_type": "markdown",
   "metadata": {},
   "source": [
    "According to the table, the customer paid big amount at that month for some reason, but that matches basically."
   ]
  },
  {
   "cell_type": "markdown",
   "metadata": {},
   "source": [
    "### Numeric Features  \n",
    "Let's see the histograms of numeric features distributions for easier comparisons. There are some outliers for the bill statement amounts and payment amounts, but mode ranges are consistent. Because we are going to normalize the number when fitting the predicting model, I don't think it would be an issue."
   ]
  },
  {
   "cell_type": "code",
   "execution_count": 9,
   "metadata": {},
   "outputs": [],
   "source": [
    "def num_bar(data, fea):\n",
    "    return alt.Chart(data).mark_bar(opacity=0.7).encode(\n",
    "        alt.X(fea, type='quantitative', bin=True),\n",
    "        alt.Y('count()')\n",
    "    ).properties(title=f'Count of {fea}', height=150, width=200)"
   ]
  },
  {
   "cell_type": "code",
   "execution_count": 10,
   "metadata": {},
   "outputs": [],
   "source": [
    "row = alt.vconcat()\n",
    "col = alt.hconcat()\n",
    "ncol = 4  #how many to display in each row\n",
    "\n",
    "for i in range(len(numeric_features)):\n",
    "    col |= num_bar(X_train, numeric_features[i])\n",
    "    if (i+1)%ncol==0:\n",
    "        row &= col\n",
    "        col = alt.hconcat() \n",
    "num_bar_chart = row & col"
   ]
  },
  {
   "cell_type": "code",
   "execution_count": 11,
   "metadata": {},
   "outputs": [
    {
     "data": {
      "application/vnd.vegalite.v3+json": {
       "$schema": "https://vega.github.io/schema/vega-lite/v3.4.0.json",
       "config": {
        "mark": {
         "tooltip": null
        },
        "view": {
         "height": 300,
         "width": 400
        }
       },
       "data": {
        "format": {
         "type": "json"
        },
        "url": "altair-data-ffdf232926808bd25ec5ef105eb570ec.json"
       },
       "vconcat": [
        {
         "hconcat": [
          {
           "encoding": {
            "x": {
             "bin": true,
             "field": "LIMIT_BAL",
             "type": "quantitative"
            },
            "y": {
             "aggregate": "count",
             "type": "quantitative"
            }
           },
           "height": 150,
           "mark": {
            "opacity": 0.7,
            "type": "bar"
           },
           "title": "Count of LIMIT_BAL",
           "width": 200
          },
          {
           "encoding": {
            "x": {
             "bin": true,
             "field": "AGE",
             "type": "quantitative"
            },
            "y": {
             "aggregate": "count",
             "type": "quantitative"
            }
           },
           "height": 150,
           "mark": {
            "opacity": 0.7,
            "type": "bar"
           },
           "title": "Count of AGE",
           "width": 200
          },
          {
           "encoding": {
            "x": {
             "bin": true,
             "field": "BILL_AMT1",
             "type": "quantitative"
            },
            "y": {
             "aggregate": "count",
             "type": "quantitative"
            }
           },
           "height": 150,
           "mark": {
            "opacity": 0.7,
            "type": "bar"
           },
           "title": "Count of BILL_AMT1",
           "width": 200
          },
          {
           "encoding": {
            "x": {
             "bin": true,
             "field": "BILL_AMT2",
             "type": "quantitative"
            },
            "y": {
             "aggregate": "count",
             "type": "quantitative"
            }
           },
           "height": 150,
           "mark": {
            "opacity": 0.7,
            "type": "bar"
           },
           "title": "Count of BILL_AMT2",
           "width": 200
          }
         ]
        },
        {
         "hconcat": [
          {
           "encoding": {
            "x": {
             "bin": true,
             "field": "BILL_AMT3",
             "type": "quantitative"
            },
            "y": {
             "aggregate": "count",
             "type": "quantitative"
            }
           },
           "height": 150,
           "mark": {
            "opacity": 0.7,
            "type": "bar"
           },
           "title": "Count of BILL_AMT3",
           "width": 200
          },
          {
           "encoding": {
            "x": {
             "bin": true,
             "field": "BILL_AMT4",
             "type": "quantitative"
            },
            "y": {
             "aggregate": "count",
             "type": "quantitative"
            }
           },
           "height": 150,
           "mark": {
            "opacity": 0.7,
            "type": "bar"
           },
           "title": "Count of BILL_AMT4",
           "width": 200
          },
          {
           "encoding": {
            "x": {
             "bin": true,
             "field": "BILL_AMT5",
             "type": "quantitative"
            },
            "y": {
             "aggregate": "count",
             "type": "quantitative"
            }
           },
           "height": 150,
           "mark": {
            "opacity": 0.7,
            "type": "bar"
           },
           "title": "Count of BILL_AMT5",
           "width": 200
          },
          {
           "encoding": {
            "x": {
             "bin": true,
             "field": "BILL_AMT6",
             "type": "quantitative"
            },
            "y": {
             "aggregate": "count",
             "type": "quantitative"
            }
           },
           "height": 150,
           "mark": {
            "opacity": 0.7,
            "type": "bar"
           },
           "title": "Count of BILL_AMT6",
           "width": 200
          }
         ]
        },
        {
         "hconcat": [
          {
           "encoding": {
            "x": {
             "bin": true,
             "field": "PAY_AMT1",
             "type": "quantitative"
            },
            "y": {
             "aggregate": "count",
             "type": "quantitative"
            }
           },
           "height": 150,
           "mark": {
            "opacity": 0.7,
            "type": "bar"
           },
           "title": "Count of PAY_AMT1",
           "width": 200
          },
          {
           "encoding": {
            "x": {
             "bin": true,
             "field": "PAY_AMT2",
             "type": "quantitative"
            },
            "y": {
             "aggregate": "count",
             "type": "quantitative"
            }
           },
           "height": 150,
           "mark": {
            "opacity": 0.7,
            "type": "bar"
           },
           "title": "Count of PAY_AMT2",
           "width": 200
          },
          {
           "encoding": {
            "x": {
             "bin": true,
             "field": "PAY_AMT3",
             "type": "quantitative"
            },
            "y": {
             "aggregate": "count",
             "type": "quantitative"
            }
           },
           "height": 150,
           "mark": {
            "opacity": 0.7,
            "type": "bar"
           },
           "title": "Count of PAY_AMT3",
           "width": 200
          },
          {
           "encoding": {
            "x": {
             "bin": true,
             "field": "PAY_AMT4",
             "type": "quantitative"
            },
            "y": {
             "aggregate": "count",
             "type": "quantitative"
            }
           },
           "height": 150,
           "mark": {
            "opacity": 0.7,
            "type": "bar"
           },
           "title": "Count of PAY_AMT4",
           "width": 200
          }
         ]
        },
        {
         "hconcat": [
          {
           "encoding": {
            "x": {
             "bin": true,
             "field": "PAY_AMT5",
             "type": "quantitative"
            },
            "y": {
             "aggregate": "count",
             "type": "quantitative"
            }
           },
           "height": 150,
           "mark": {
            "opacity": 0.7,
            "type": "bar"
           },
           "title": "Count of PAY_AMT5",
           "width": 200
          },
          {
           "encoding": {
            "x": {
             "bin": true,
             "field": "PAY_AMT6",
             "type": "quantitative"
            },
            "y": {
             "aggregate": "count",
             "type": "quantitative"
            }
           },
           "height": 150,
           "mark": {
            "opacity": 0.7,
            "type": "bar"
           },
           "title": "Count of PAY_AMT6",
           "width": 200
          }
         ]
        }
       ]
      },
      "image/png": "[encoded data removed]",
      "text/plain": [
       "<VegaLite 3 object>\n",
       "\n",
       "If you see this message, it means the renderer has not been properly enabled\n",
       "for the frontend that you are using. For more information, see\n",
       "https://altair-viz.github.io/user_guide/troubleshooting.html\n"
      ]
     },
     "execution_count": 11,
     "metadata": {},
     "output_type": "execute_result"
    }
   ],
   "source": [
    "num_bar_chart"
   ]
  },
  {
   "cell_type": "markdown",
   "metadata": {},
   "source": [
    "### Categorical features  \n",
    "How many people are in each class of each categorical feature? Bar chart is easy to compare the difference.  \n",
    "For example, from the following plots, for Count of SEX(gender) we can see class 2 - Female is almost twice as the class 1 - Male.\n",
    "\n",
    "There are lots of 0s for `PAY_1`, `PAY_2`, ..., `PAY_6` which are past monthly status. 0 is not documented in the original data description. I guess it probably means \"unknown\". But because we are fitting the prediction model, we don't really need to know the meaning of 0. It's still some sort of the information about the status, so we'll leave as is."
   ]
  },
  {
   "cell_type": "code",
   "execution_count": 12,
   "metadata": {},
   "outputs": [],
   "source": [
    "def cat_bar(data, fea):\n",
    "    return alt.Chart(data).mark_bar(opacity=0.7).encode(\n",
    "        alt.X(fea, type='nominal'),\n",
    "        alt.Y('count()')\n",
    "    ).properties(title=f'Count of {fea}', height=200)"
   ]
  },
  {
   "cell_type": "code",
   "execution_count": 13,
   "metadata": {},
   "outputs": [],
   "source": [
    "row = alt.vconcat()\n",
    "col = alt.hconcat()\n",
    "ncol = 3  #how many to display in each row\n",
    "\n",
    "for i in range(len(categorical_features)):\n",
    "    col |= cat_bar(X_train, categorical_features[i])\n",
    "    if (i+1)%ncol==0:\n",
    "        row &= col\n",
    "        col = alt.hconcat()  \n",
    "cat_bar_chart = row"
   ]
  },
  {
   "cell_type": "code",
   "execution_count": 14,
   "metadata": {},
   "outputs": [
    {
     "data": {
      "application/vnd.vegalite.v3+json": {
       "$schema": "https://vega.github.io/schema/vega-lite/v3.4.0.json",
       "config": {
        "mark": {
         "tooltip": null
        },
        "view": {
         "height": 300,
         "width": 400
        }
       },
       "data": {
        "format": {
         "type": "json"
        },
        "url": "altair-data-ffdf232926808bd25ec5ef105eb570ec.json"
       },
       "vconcat": [
        {
         "hconcat": [
          {
           "encoding": {
            "x": {
             "field": "SEX",
             "type": "nominal"
            },
            "y": {
             "aggregate": "count",
             "type": "quantitative"
            }
           },
           "height": 200,
           "mark": {
            "opacity": 0.7,
            "type": "bar"
           },
           "title": "Count of SEX"
          },
          {
           "encoding": {
            "x": {
             "field": "EDUCATION",
             "type": "nominal"
            },
            "y": {
             "aggregate": "count",
             "type": "quantitative"
            }
           },
           "height": 200,
           "mark": {
            "opacity": 0.7,
            "type": "bar"
           },
           "title": "Count of EDUCATION"
          },
          {
           "encoding": {
            "x": {
             "field": "MARRIAGE",
             "type": "nominal"
            },
            "y": {
             "aggregate": "count",
             "type": "quantitative"
            }
           },
           "height": 200,
           "mark": {
            "opacity": 0.7,
            "type": "bar"
           },
           "title": "Count of MARRIAGE"
          }
         ]
        },
        {
         "hconcat": [
          {
           "encoding": {
            "x": {
             "field": "PAY_1",
             "type": "nominal"
            },
            "y": {
             "aggregate": "count",
             "type": "quantitative"
            }
           },
           "height": 200,
           "mark": {
            "opacity": 0.7,
            "type": "bar"
           },
           "title": "Count of PAY_1"
          },
          {
           "encoding": {
            "x": {
             "field": "PAY_2",
             "type": "nominal"
            },
            "y": {
             "aggregate": "count",
             "type": "quantitative"
            }
           },
           "height": 200,
           "mark": {
            "opacity": 0.7,
            "type": "bar"
           },
           "title": "Count of PAY_2"
          },
          {
           "encoding": {
            "x": {
             "field": "PAY_3",
             "type": "nominal"
            },
            "y": {
             "aggregate": "count",
             "type": "quantitative"
            }
           },
           "height": 200,
           "mark": {
            "opacity": 0.7,
            "type": "bar"
           },
           "title": "Count of PAY_3"
          }
         ]
        },
        {
         "hconcat": [
          {
           "encoding": {
            "x": {
             "field": "PAY_4",
             "type": "nominal"
            },
            "y": {
             "aggregate": "count",
             "type": "quantitative"
            }
           },
           "height": 200,
           "mark": {
            "opacity": 0.7,
            "type": "bar"
           },
           "title": "Count of PAY_4"
          },
          {
           "encoding": {
            "x": {
             "field": "PAY_5",
             "type": "nominal"
            },
            "y": {
             "aggregate": "count",
             "type": "quantitative"
            }
           },
           "height": 200,
           "mark": {
            "opacity": 0.7,
            "type": "bar"
           },
           "title": "Count of PAY_5"
          },
          {
           "encoding": {
            "x": {
             "field": "PAY_6",
             "type": "nominal"
            },
            "y": {
             "aggregate": "count",
             "type": "quantitative"
            }
           },
           "height": 200,
           "mark": {
            "opacity": 0.7,
            "type": "bar"
           },
           "title": "Count of PAY_6"
          }
         ]
        }
       ]
      },
      "image/png": "[encoded data removed]",
      "text/plain": [
       "<VegaLite 3 object>\n",
       "\n",
       "If you see this message, it means the renderer has not been properly enabled\n",
       "for the frontend that you are using. For more information, see\n",
       "https://altair-viz.github.io/user_guide/troubleshooting.html\n"
      ]
     },
     "execution_count": 14,
     "metadata": {},
     "output_type": "execute_result"
    }
   ],
   "source": [
    "cat_bar_chart"
   ]
  },
  {
   "cell_type": "markdown",
   "metadata": {},
   "source": [
    "### The response variable  \n",
    "The response variable has two classes. 1 - Default payment is about a third of 0 - Non default. It's imbalanced dataset, but there are still around 5000 examples for default payment to train the model, I don't think it's too bad."
   ]
  },
  {
   "cell_type": "code",
   "execution_count": 45,
   "metadata": {},
   "outputs": [
    {
     "data": {
      "text/plain": [
       "0    17519\n",
       "1     4981\n",
       "Name: DEFAULT_NEXT_MONTH, dtype: int64"
      ]
     },
     "execution_count": 45,
     "metadata": {},
     "output_type": "execute_result"
    }
   ],
   "source": [
    "y_train.value_counts()"
   ]
  },
  {
   "cell_type": "code",
   "execution_count": 15,
   "metadata": {},
   "outputs": [
    {
     "data": {
      "application/vnd.vegalite.v3+json": {
       "$schema": "https://vega.github.io/schema/vega-lite/v3.4.0.json",
       "config": {
        "mark": {
         "tooltip": null
        },
        "view": {
         "height": 300,
         "width": 400
        }
       },
       "data": {
        "format": {
         "type": "json"
        },
        "url": "altair-data-c43837ad50d1dd53c60fec530b24704a.json"
       },
       "encoding": {
        "x": {
         "field": "DEFAULT_NEXT_MONTH",
         "type": "nominal"
        },
        "y": {
         "aggregate": "count",
         "type": "quantitative"
        }
       },
       "height": 200,
       "mark": {
        "opacity": 0.7,
        "type": "bar"
       },
       "title": "Count of DEFAULT_NEXT_MONTH"
      },
      "image/png": "[encoded data removed]",
      "text/plain": [
       "<VegaLite 3 object>\n",
       "\n",
       "If you see this message, it means the renderer has not been properly enabled\n",
       "for the frontend that you are using. For more information, see\n",
       "https://altair-viz.github.io/user_guide/troubleshooting.html\n"
      ]
     },
     "execution_count": 15,
     "metadata": {},
     "output_type": "execute_result"
    }
   ],
   "source": [
    "cat_bar(y_train.to_frame(), 'DEFAULT_NEXT_MONTH')"
   ]
  },
  {
   "cell_type": "markdown",
   "metadata": {},
   "source": [
    "# Possible relationships  \n",
    "Let's see if we can find some relationships or patterns visually, so that it makes sense to predict based on these predictors.  "
   ]
  },
  {
   "cell_type": "markdown",
   "metadata": {},
   "source": [
    "### Correlations among numeric predictors  \n",
    "Collinearity among predictors would be a problem for some models, for example, logistic regression. If they are strongly correlated, the weights we get from the fitted logistic regression model cannot be trusted.  \n",
    "According to the below plot, bill statement amounts are highly correlated. It makes sense, because the amount owed this month is dependent on the amount owed from last month. So we might need to drop some columns when fitting the model or choose the model that won't be affected by the collinearity of predictors. Other than that, payment amounts, bill statement amounts and age are relatively independent of each other."
   ]
  },
  {
   "cell_type": "code",
   "execution_count": 16,
   "metadata": {},
   "outputs": [],
   "source": [
    "##TOO SLOW to run\n",
    "\n",
    "#num_corr = alt.Chart(X_train).mark_circle().encode(\n",
    "#     alt.X(alt.repeat('column'), type='quantitative'),\n",
    "#     alt.Y(alt.repeat('row'), type='quantitative')\n",
    "# ).properties(width=150, height=150).repeat(\n",
    "#     row=numeric_features,\n",
    "#     column=numeric_features\n",
    "# )"
   ]
  },
  {
   "cell_type": "code",
   "execution_count": 17,
   "metadata": {},
   "outputs": [],
   "source": [
    "#calculate correlations\n",
    "corr = X_train[numeric_features].corr()\n",
    "corr_df = corr.reset_index().melt(id_vars='index', var_name='yaxis', value_name='correlation')"
   ]
  },
  {
   "cell_type": "code",
   "execution_count": 18,
   "metadata": {},
   "outputs": [
    {
     "data": {
      "application/vnd.vegalite.v3+json": {
       "$schema": "https://vega.github.io/schema/vega-lite/v3.4.0.json",
       "config": {
        "mark": {
         "tooltip": null
        },
        "view": {
         "height": 300,
         "width": 400
        }
       },
       "data": {
        "format": {
         "type": "json"
        },
        "url": "altair-data-894b3c5dc92c27ae8615b7830d08f111.json"
       },
       "encoding": {
        "color": {
         "field": "correlation",
         "type": "quantitative"
        },
        "x": {
         "axis": {
          "title": null
         },
         "field": "index",
         "type": "nominal"
        },
        "y": {
         "axis": {
          "title": null
         },
         "field": "yaxis",
         "type": "nominal"
        }
       },
       "mark": "rect",
       "title": "Correlations between numeric features"
      },
      "image/png": "[encoded data removed]",
      "text/plain": [
       "<VegaLite 3 object>\n",
       "\n",
       "If you see this message, it means the renderer has not been properly enabled\n",
       "for the frontend that you are using. For more information, see\n",
       "https://altair-viz.github.io/user_guide/troubleshooting.html\n"
      ]
     },
     "execution_count": 18,
     "metadata": {},
     "output_type": "execute_result"
    }
   ],
   "source": [
    "alt.Chart(corr_df).mark_rect().encode(\n",
    "    alt.X('index:N', axis=alt.Axis(title=None)),\n",
    "    alt.Y('yaxis:N', axis=alt.Axis(title=None)),\n",
    "    alt.Color('correlation:Q')\n",
    ").properties(title='Correlations between numeric features')"
   ]
  },
  {
   "cell_type": "markdown",
   "metadata": {},
   "source": [
    "### Possible relationships between categorical and numeric predictors  \n",
    "\n",
    "If one class of the categorical feature amount is consistently higher than some other class of the categorical feature. For example, if women tend to have higher credit limit than men. Because the distribution of bill statement amounts and payment amounts are similar among different months, I selected one of them randomly to draw the graphs.  \n",
    "\n",
    "For example, we can see that education probably influences the credit limit. 3-high school boxplot is lower than 4-Others boxplot."
   ]
  },
  {
   "cell_type": "code",
   "execution_count": 19,
   "metadata": {},
   "outputs": [],
   "source": [
    "def box_plot(data, cat_var, cont_var):\n",
    "    return alt.Chart(data).mark_boxplot().encode(\n",
    "    alt.X(cat_var, type='nominal'),\n",
    "    alt.Y(cont_var, type='quantitative')\n",
    ").properties(width=150, height=200)"
   ]
  },
  {
   "cell_type": "code",
   "execution_count": 20,
   "metadata": {},
   "outputs": [],
   "source": [
    "cont_list = ['PAY_AMT3', 'BILL_AMT3', 'LIMIT_BAL']\n",
    "cat_list = ['SEX', 'EDUCATION', 'MARRIAGE']\n",
    "\n",
    "row = alt.vconcat()\n",
    "for cont_var in cont_list:\n",
    "    col = alt.hconcat()\n",
    "    for cat_var in cat_list:\n",
    "        col |= box_plot(X_train, cat_var, cont_var)\n",
    "    row &= col"
   ]
  },
  {
   "cell_type": "code",
   "execution_count": 21,
   "metadata": {},
   "outputs": [
    {
     "data": {
      "application/vnd.vegalite.v3+json": {
       "$schema": "https://vega.github.io/schema/vega-lite/v3.4.0.json",
       "config": {
        "mark": {
         "tooltip": null
        },
        "view": {
         "height": 300,
         "width": 400
        }
       },
       "data": {
        "format": {
         "type": "json"
        },
        "url": "altair-data-ffdf232926808bd25ec5ef105eb570ec.json"
       },
       "vconcat": [
        {
         "hconcat": [
          {
           "encoding": {
            "x": {
             "field": "SEX",
             "type": "nominal"
            },
            "y": {
             "field": "PAY_AMT3",
             "type": "quantitative"
            }
           },
           "height": 200,
           "mark": "boxplot",
           "width": 150
          },
          {
           "encoding": {
            "x": {
             "field": "EDUCATION",
             "type": "nominal"
            },
            "y": {
             "field": "PAY_AMT3",
             "type": "quantitative"
            }
           },
           "height": 200,
           "mark": "boxplot",
           "width": 150
          },
          {
           "encoding": {
            "x": {
             "field": "MARRIAGE",
             "type": "nominal"
            },
            "y": {
             "field": "PAY_AMT3",
             "type": "quantitative"
            }
           },
           "height": 200,
           "mark": "boxplot",
           "width": 150
          }
         ]
        },
        {
         "hconcat": [
          {
           "encoding": {
            "x": {
             "field": "SEX",
             "type": "nominal"
            },
            "y": {
             "field": "BILL_AMT3",
             "type": "quantitative"
            }
           },
           "height": 200,
           "mark": "boxplot",
           "width": 150
          },
          {
           "encoding": {
            "x": {
             "field": "EDUCATION",
             "type": "nominal"
            },
            "y": {
             "field": "BILL_AMT3",
             "type": "quantitative"
            }
           },
           "height": 200,
           "mark": "boxplot",
           "width": 150
          },
          {
           "encoding": {
            "x": {
             "field": "MARRIAGE",
             "type": "nominal"
            },
            "y": {
             "field": "BILL_AMT3",
             "type": "quantitative"
            }
           },
           "height": 200,
           "mark": "boxplot",
           "width": 150
          }
         ]
        },
        {
         "hconcat": [
          {
           "encoding": {
            "x": {
             "field": "SEX",
             "type": "nominal"
            },
            "y": {
             "field": "LIMIT_BAL",
             "type": "quantitative"
            }
           },
           "height": 200,
           "mark": "boxplot",
           "width": 150
          },
          {
           "encoding": {
            "x": {
             "field": "EDUCATION",
             "type": "nominal"
            },
            "y": {
             "field": "LIMIT_BAL",
             "type": "quantitative"
            }
           },
           "height": 200,
           "mark": "boxplot",
           "width": 150
          },
          {
           "encoding": {
            "x": {
             "field": "MARRIAGE",
             "type": "nominal"
            },
            "y": {
             "field": "LIMIT_BAL",
             "type": "quantitative"
            }
           },
           "height": 200,
           "mark": "boxplot",
           "width": 150
          }
         ]
        }
       ]
      },
      "image/png": "[encoded data removed]",
      "text/plain": [
       "<VegaLite 3 object>\n",
       "\n",
       "If you see this message, it means the renderer has not been properly enabled\n",
       "for the frontend that you are using. For more information, see\n",
       "https://altair-viz.github.io/user_guide/troubleshooting.html\n"
      ]
     },
     "execution_count": 21,
     "metadata": {},
     "output_type": "execute_result"
    }
   ],
   "source": [
    "row"
   ]
  },
  {
   "cell_type": "markdown",
   "metadata": {},
   "source": [
    "### Possible relationships between predictors and the response variable  \n",
    "\n",
    "Our research question is what features predict default payment? Let's see if we can find any strong associations between predictors and the response variable visually."
   ]
  },
  {
   "cell_type": "markdown",
   "metadata": {},
   "source": [
    "- Numeric predictors to the response variable  \n",
    "According to the boxplots below, credit limit for 0-Non default is slightly higher than 1-default. It's probably a good predictor for default payment. It also makes sense because for people able to get higher credit limit, they must have good credit history, so that banks are willing to allow them higher credit amount. Also, payment amounts seem are also good predictors to me, because non default tends to have higher and more higher outliers than default payment."
   ]
  },
  {
   "cell_type": "code",
   "execution_count": 22,
   "metadata": {},
   "outputs": [],
   "source": [
    "df_train = X_train.copy()\n",
    "df_train['DEFAULT_NEXT_MONTH'] = y_train"
   ]
  },
  {
   "cell_type": "code",
   "execution_count": 23,
   "metadata": {},
   "outputs": [],
   "source": [
    "row = alt.vconcat()\n",
    "col = alt.hconcat()\n",
    "ncol = 4  #how many to display in each row\n",
    "\n",
    "for i in range(len(numeric_features)):\n",
    "    col |= box_plot(df_train, 'DEFAULT_NEXT_MONTH', numeric_features[i])\n",
    "    if (i+1)%ncol==0:\n",
    "        row &= col\n",
    "        col = alt.hconcat()\n",
    "num_res_chart = row & col"
   ]
  },
  {
   "cell_type": "code",
   "execution_count": 24,
   "metadata": {},
   "outputs": [
    {
     "data": {
      "application/vnd.vegalite.v3+json": {
       "$schema": "https://vega.github.io/schema/vega-lite/v3.4.0.json",
       "config": {
        "mark": {
         "tooltip": null
        },
        "view": {
         "height": 300,
         "width": 400
        }
       },
       "data": {
        "format": {
         "type": "json"
        },
        "url": "altair-data-aeb87ad608560432c0dd4b58db70979f.json"
       },
       "vconcat": [
        {
         "hconcat": [
          {
           "encoding": {
            "x": {
             "field": "DEFAULT_NEXT_MONTH",
             "type": "nominal"
            },
            "y": {
             "field": "LIMIT_BAL",
             "type": "quantitative"
            }
           },
           "height": 200,
           "mark": "boxplot",
           "width": 150
          },
          {
           "encoding": {
            "x": {
             "field": "DEFAULT_NEXT_MONTH",
             "type": "nominal"
            },
            "y": {
             "field": "AGE",
             "type": "quantitative"
            }
           },
           "height": 200,
           "mark": "boxplot",
           "width": 150
          },
          {
           "encoding": {
            "x": {
             "field": "DEFAULT_NEXT_MONTH",
             "type": "nominal"
            },
            "y": {
             "field": "BILL_AMT1",
             "type": "quantitative"
            }
           },
           "height": 200,
           "mark": "boxplot",
           "width": 150
          },
          {
           "encoding": {
            "x": {
             "field": "DEFAULT_NEXT_MONTH",
             "type": "nominal"
            },
            "y": {
             "field": "BILL_AMT2",
             "type": "quantitative"
            }
           },
           "height": 200,
           "mark": "boxplot",
           "width": 150
          }
         ]
        },
        {
         "hconcat": [
          {
           "encoding": {
            "x": {
             "field": "DEFAULT_NEXT_MONTH",
             "type": "nominal"
            },
            "y": {
             "field": "BILL_AMT3",
             "type": "quantitative"
            }
           },
           "height": 200,
           "mark": "boxplot",
           "width": 150
          },
          {
           "encoding": {
            "x": {
             "field": "DEFAULT_NEXT_MONTH",
             "type": "nominal"
            },
            "y": {
             "field": "BILL_AMT4",
             "type": "quantitative"
            }
           },
           "height": 200,
           "mark": "boxplot",
           "width": 150
          },
          {
           "encoding": {
            "x": {
             "field": "DEFAULT_NEXT_MONTH",
             "type": "nominal"
            },
            "y": {
             "field": "BILL_AMT5",
             "type": "quantitative"
            }
           },
           "height": 200,
           "mark": "boxplot",
           "width": 150
          },
          {
           "encoding": {
            "x": {
             "field": "DEFAULT_NEXT_MONTH",
             "type": "nominal"
            },
            "y": {
             "field": "BILL_AMT6",
             "type": "quantitative"
            }
           },
           "height": 200,
           "mark": "boxplot",
           "width": 150
          }
         ]
        },
        {
         "hconcat": [
          {
           "encoding": {
            "x": {
             "field": "DEFAULT_NEXT_MONTH",
             "type": "nominal"
            },
            "y": {
             "field": "PAY_AMT1",
             "type": "quantitative"
            }
           },
           "height": 200,
           "mark": "boxplot",
           "width": 150
          },
          {
           "encoding": {
            "x": {
             "field": "DEFAULT_NEXT_MONTH",
             "type": "nominal"
            },
            "y": {
             "field": "PAY_AMT2",
             "type": "quantitative"
            }
           },
           "height": 200,
           "mark": "boxplot",
           "width": 150
          },
          {
           "encoding": {
            "x": {
             "field": "DEFAULT_NEXT_MONTH",
             "type": "nominal"
            },
            "y": {
             "field": "PAY_AMT3",
             "type": "quantitative"
            }
           },
           "height": 200,
           "mark": "boxplot",
           "width": 150
          },
          {
           "encoding": {
            "x": {
             "field": "DEFAULT_NEXT_MONTH",
             "type": "nominal"
            },
            "y": {
             "field": "PAY_AMT4",
             "type": "quantitative"
            }
           },
           "height": 200,
           "mark": "boxplot",
           "width": 150
          }
         ]
        },
        {
         "hconcat": [
          {
           "encoding": {
            "x": {
             "field": "DEFAULT_NEXT_MONTH",
             "type": "nominal"
            },
            "y": {
             "field": "PAY_AMT5",
             "type": "quantitative"
            }
           },
           "height": 200,
           "mark": "boxplot",
           "width": 150
          },
          {
           "encoding": {
            "x": {
             "field": "DEFAULT_NEXT_MONTH",
             "type": "nominal"
            },
            "y": {
             "field": "PAY_AMT6",
             "type": "quantitative"
            }
           },
           "height": 200,
           "mark": "boxplot",
           "width": 150
          }
         ]
        }
       ]
      },
      "image/png": "[encoded data removed]",
      "text/plain": [
       "<VegaLite 3 object>\n",
       "\n",
       "If you see this message, it means the renderer has not been properly enabled\n",
       "for the frontend that you are using. For more information, see\n",
       "https://altair-viz.github.io/user_guide/troubleshooting.html\n"
      ]
     },
     "execution_count": 24,
     "metadata": {},
     "output_type": "execute_result"
    }
   ],
   "source": [
    "num_res_chart"
   ]
  },
  {
   "cell_type": "markdown",
   "metadata": {},
   "source": [
    "- Categorical predictors to the response variable  \n",
    "According to the below graphs, gender, education and marriage's proportions of different classes are pretty similar between non default and default payment. For payment status, 2-payment delay for two months accounted for more in 1-default payment than in 0-non default. Therefore, they are probably good predictors to predict default payment."
   ]
  },
  {
   "cell_type": "code",
   "execution_count": 25,
   "metadata": {},
   "outputs": [],
   "source": [
    "def stack_bar(data, cat_var, res_var_cat):\n",
    "    return alt.Chart(data).mark_bar(opacity=0.7).encode(\n",
    "    alt.Y(res_var_cat, type='nominal', title='Default'),\n",
    "    alt.X('count()', axis=alt.Axis(grid=False), stack='normalize', title=f'Count of {cat_var} - Normalized'),\n",
    "    alt.Color(cat_var, type='nominal')\n",
    ").properties(width=400)"
   ]
  },
  {
   "cell_type": "code",
   "execution_count": 26,
   "metadata": {},
   "outputs": [],
   "source": [
    "row = alt.vconcat()\n",
    "col = alt.hconcat()\n",
    "ncol = 2  #how many to display in each row\n",
    "\n",
    "for i in range(len(categorical_features)):\n",
    "    col |= stack_bar(df_train, categorical_features[i], 'DEFAULT_NEXT_MONTH')\n",
    "    if (i+1)%ncol==0:\n",
    "        row &= col\n",
    "        col = alt.hconcat()  \n",
    "cat_res_chart = row & col"
   ]
  },
  {
   "cell_type": "code",
   "execution_count": 27,
   "metadata": {},
   "outputs": [
    {
     "data": {
      "application/vnd.vegalite.v3+json": {
       "$schema": "https://vega.github.io/schema/vega-lite/v3.4.0.json",
       "config": {
        "mark": {
         "tooltip": null
        },
        "view": {
         "height": 300,
         "width": 400
        }
       },
       "data": {
        "format": {
         "type": "json"
        },
        "url": "altair-data-aeb87ad608560432c0dd4b58db70979f.json"
       },
       "title": "Normalized stacked bar",
       "vconcat": [
        {
         "hconcat": [
          {
           "encoding": {
            "color": {
             "field": "SEX",
             "type": "nominal"
            },
            "x": {
             "aggregate": "count",
             "axis": {
              "grid": false
             },
             "stack": "normalize",
             "title": "Count of SEX - Normalized",
             "type": "quantitative"
            },
            "y": {
             "field": "DEFAULT_NEXT_MONTH",
             "title": "Default",
             "type": "nominal"
            }
           },
           "mark": {
            "opacity": 0.7,
            "type": "bar"
           },
           "width": 400
          },
          {
           "encoding": {
            "color": {
             "field": "EDUCATION",
             "type": "nominal"
            },
            "x": {
             "aggregate": "count",
             "axis": {
              "grid": false
             },
             "stack": "normalize",
             "title": "Count of EDUCATION - Normalized",
             "type": "quantitative"
            },
            "y": {
             "field": "DEFAULT_NEXT_MONTH",
             "title": "Default",
             "type": "nominal"
            }
           },
           "mark": {
            "opacity": 0.7,
            "type": "bar"
           },
           "width": 400
          }
         ]
        },
        {
         "hconcat": [
          {
           "encoding": {
            "color": {
             "field": "MARRIAGE",
             "type": "nominal"
            },
            "x": {
             "aggregate": "count",
             "axis": {
              "grid": false
             },
             "stack": "normalize",
             "title": "Count of MARRIAGE - Normalized",
             "type": "quantitative"
            },
            "y": {
             "field": "DEFAULT_NEXT_MONTH",
             "title": "Default",
             "type": "nominal"
            }
           },
           "mark": {
            "opacity": 0.7,
            "type": "bar"
           },
           "width": 400
          },
          {
           "encoding": {
            "color": {
             "field": "PAY_1",
             "type": "nominal"
            },
            "x": {
             "aggregate": "count",
             "axis": {
              "grid": false
             },
             "stack": "normalize",
             "title": "Count of PAY_1 - Normalized",
             "type": "quantitative"
            },
            "y": {
             "field": "DEFAULT_NEXT_MONTH",
             "title": "Default",
             "type": "nominal"
            }
           },
           "mark": {
            "opacity": 0.7,
            "type": "bar"
           },
           "width": 400
          }
         ]
        },
        {
         "hconcat": [
          {
           "encoding": {
            "color": {
             "field": "PAY_2",
             "type": "nominal"
            },
            "x": {
             "aggregate": "count",
             "axis": {
              "grid": false
             },
             "stack": "normalize",
             "title": "Count of PAY_2 - Normalized",
             "type": "quantitative"
            },
            "y": {
             "field": "DEFAULT_NEXT_MONTH",
             "title": "Default",
             "type": "nominal"
            }
           },
           "mark": {
            "opacity": 0.7,
            "type": "bar"
           },
           "width": 400
          },
          {
           "encoding": {
            "color": {
             "field": "PAY_3",
             "type": "nominal"
            },
            "x": {
             "aggregate": "count",
             "axis": {
              "grid": false
             },
             "stack": "normalize",
             "title": "Count of PAY_3 - Normalized",
             "type": "quantitative"
            },
            "y": {
             "field": "DEFAULT_NEXT_MONTH",
             "title": "Default",
             "type": "nominal"
            }
           },
           "mark": {
            "opacity": 0.7,
            "type": "bar"
           },
           "width": 400
          }
         ]
        },
        {
         "hconcat": [
          {
           "encoding": {
            "color": {
             "field": "PAY_4",
             "type": "nominal"
            },
            "x": {
             "aggregate": "count",
             "axis": {
              "grid": false
             },
             "stack": "normalize",
             "title": "Count of PAY_4 - Normalized",
             "type": "quantitative"
            },
            "y": {
             "field": "DEFAULT_NEXT_MONTH",
             "title": "Default",
             "type": "nominal"
            }
           },
           "mark": {
            "opacity": 0.7,
            "type": "bar"
           },
           "width": 400
          },
          {
           "encoding": {
            "color": {
             "field": "PAY_5",
             "type": "nominal"
            },
            "x": {
             "aggregate": "count",
             "axis": {
              "grid": false
             },
             "stack": "normalize",
             "title": "Count of PAY_5 - Normalized",
             "type": "quantitative"
            },
            "y": {
             "field": "DEFAULT_NEXT_MONTH",
             "title": "Default",
             "type": "nominal"
            }
           },
           "mark": {
            "opacity": 0.7,
            "type": "bar"
           },
           "width": 400
          }
         ]
        },
        {
         "hconcat": [
          {
           "encoding": {
            "color": {
             "field": "PAY_6",
             "type": "nominal"
            },
            "x": {
             "aggregate": "count",
             "axis": {
              "grid": false
             },
             "stack": "normalize",
             "title": "Count of PAY_6 - Normalized",
             "type": "quantitative"
            },
            "y": {
             "field": "DEFAULT_NEXT_MONTH",
             "title": "Default",
             "type": "nominal"
            }
           },
           "mark": {
            "opacity": 0.7,
            "type": "bar"
           },
           "width": 400
          }
         ]
        }
       ]
      },
      "image/png": "[encoded data removed]",
      "text/plain": [
       "<VegaLite 3 object>\n",
       "\n",
       "If you see this message, it means the renderer has not been properly enabled\n",
       "for the frontend that you are using. For more information, see\n",
       "https://altair-viz.github.io/user_guide/troubleshooting.html\n"
      ]
     },
     "execution_count": 27,
     "metadata": {},
     "output_type": "execute_result"
    }
   ],
   "source": [
    "cat_res_chart.properties(title='Normalized stacked bar')"
   ]
  },
  {
   "cell_type": "markdown",
   "metadata": {},
   "source": [
    "# Conclusion"
   ]
  },
  {
   "cell_type": "markdown",
   "metadata": {},
   "source": [
    "According to the above exploratory data analysis, I think the data entries are reasonable and valid. Data size is good enough for fitting models.\n",
    "\n",
    "We see collinearity between `BILL_AMT1`, `BILL_AMT2`, ..., `BILL_AMT6` variables. We should consider that when fitting the prediction models. According to the plots, `LIMIT_BAL`, `PAY_AMT1`, `PAY_AMT2`, ..., `PAY_AMT6`, `PAY_1`, `PAY_2`, ..., `PAY_6` are probably good predictor variables to predict if customers will fail to pay next month or not.\n",
    "\n",
    "Overall, this would be a good dataset to fit the model and to predict the default payment. And \"What features strongly predict default payment?\" is a good and interesting research question for this dataset."
   ]
  }
 ],
 "metadata": {
  "kernelspec": {
   "display_name": "Python 3",
   "language": "python",
   "name": "python3"
  },
  "language_info": {
   "codemirror_mode": {
    "name": "ipython",
    "version": 3
   },
   "file_extension": ".py",
   "mimetype": "text/x-python",
   "name": "python",
   "nbconvert_exporter": "python",
   "pygments_lexer": "ipython3",
   "version": "3.7.3"
  }
 },
 "nbformat": 4,
 "nbformat_minor": 4
}
