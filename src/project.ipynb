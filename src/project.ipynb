{
 "cells": [
  {
   "cell_type": "code",
   "execution_count": 30,
   "metadata": {},
   "outputs": [
    {
     "data": {
      "text/plain": [
       "Text(0, 0.5, 'true positive rate')"
      ]
     },
     "execution_count": 30,
     "metadata": {},
     "output_type": "execute_result"
    },
    {
     "data": {
      "image/png": "[encoded data removed]",
      "text/plain": [
       "<Figure size 432x288 with 1 Axes>"
      ]
     },
     "metadata": {
      "needs_background": "light"
     },
     "output_type": "display_data"
    }
   ],
   "source": [
    "# author: Elliott Ribner\n",
    "# date: 2020-01-20\n",
    "\n",
    "# Jupyter version\n",
    "\n",
    "'''This script fits a model and outputs several images and csv reports\n",
    "\n",
    "Usage: src/analysis.py --input=<input> --output=<output>\n",
    "\n",
    "Options:\n",
    "--input=<input>  Name of csv file to download, must be within the /data directory.\n",
    "--output=<output>  Name of directory to be saved in, no slashes nesscesary, 'results' folder recommended. \n",
    "'''\n",
    "\n",
    "import pandas as pd\n",
    "from sklearn.model_selection import train_test_split\n",
    "from sklearn.feature_selection import RFE\n",
    "from sklearn.linear_model import LogisticRegression\n",
    "import matplotlib.pyplot as plt\n",
    "from sklearn import preprocessing\n",
    "import numpy as np\n",
    "from sklearn.metrics import accuracy_score, plot_confusion_matrix, confusion_matrix, classification_report, roc_auc_score, roc_curve\n",
    "from sklearn.metrics import recall_score, precision_score\n",
    "from sklearn.model_selection import GridSearchCV\n",
    "from imblearn.over_sampling import SMOTE\n",
    "from docopt import docopt\n",
    "\n",
    "# turn csv to dataframe\n",
    "df = pd.read_csv(\"data/cleaned-credit-default-data.csv\", index_col=0)\n",
    "\n",
    "# split training and test\n",
    "X = df.drop(columns=['DEFAULT_NEXT_MONTH'])\n",
    "y = df['DEFAULT_NEXT_MONTH']\n",
    "X_train, X_test, y_train, y_test = train_test_split(\n",
    "    X, y, test_size=0.25, random_state=122)\n",
    "\n",
    "# We use robust scalar as most of our data is not normally distributed and we have a high amount of outliers.\n",
    "columns = ['LIMIT_BAL', 'SEX', 'EDUCATION', 'MARRIAGE', 'AGE', 'PAY_1', 'PAY_2',\n",
    "           'PAY_3', 'PAY_4', 'PAY_5', 'PAY_6', 'BILL_AMT1', 'BILL_AMT2',\n",
    "           'BILL_AMT3', 'BILL_AMT4', 'BILL_AMT5', 'BILL_AMT6', 'PAY_AMT1',\n",
    "           'PAY_AMT2', 'PAY_AMT3', 'PAY_AMT4', 'PAY_AMT5', 'PAY_AMT6']\n",
    "scaler = preprocessing.RobustScaler()\n",
    "X_train = pd.DataFrame(scaler.fit_transform(X_train), columns=columns)\n",
    "X_test = pd.DataFrame(scaler.fit_transform(X_test), columns=columns)\n",
    "\n",
    "# Use RFE to identify the most identify the most useful predictors.\n",
    "# Then we will drop those columns that are deemed as less useful.\n",
    "logreg = LogisticRegression(solver=\"lbfgs\")\n",
    "rfe = RFE(logreg, 14)\n",
    "rfe = rfe.fit(X_train, y_train.values.ravel())\n",
    "columns_to_drop = list()\n",
    "for i in range(len(rfe.support_)):\n",
    "    include = rfe.support_[i]\n",
    "    if include == False:\n",
    "        columns_to_drop.append(columns[i])\n",
    "X_train = X_train.drop(columns_to_drop, axis=1)\n",
    "X_test = X_test.drop(columns_to_drop, axis=1)\n",
    "\n",
    "os = SMOTE(random_state=0)\n",
    "os_data_X, os_data_y = os.fit_sample(X_train, y_train)\n",
    "os_data_X = pd.DataFrame(data=os_data_X, columns=X_train.columns)\n",
    "\n",
    "# tune hyper parameters and fit model\n",
    "hyperparameters = {\n",
    "    'C': np.logspace(-4, 4, 20)\n",
    "}\n",
    "clf = GridSearchCV(logreg, hyperparameters, cv=5, verbose=0)\n",
    "best_model = clf.fit(os_data_X, os_data_y)\n",
    "\n",
    "# measure accuracies\n",
    "train_predictions = best_model.predict(X_train)\n",
    "train_accuracy = accuracy_score(y_train, train_predictions)\n",
    "test_predictions = best_model.predict(X_test)\n",
    "test_accuracy = accuracy_score(y_test, test_predictions)\n",
    "test_recall = recall_score(y_test, test_predictions)\n",
    "test_precision = precision_score(y_test, test_predictions)\n",
    "auc_score = roc_auc_score(y_test, best_model.predict_proba(X_test)[:, 1])\n",
    "accuracies_df = pd.DataFrame(index=['test accuracy', 'train accuracy', 'test recall', 'test precision', 'auc score'], data={\n",
    "    'result': [test_accuracy, train_accuracy, test_recall, test_precision, auc_score]\n",
    "})\n",
    "accuracies_df\n",
    "\n",
    "# plot and report confusion matrix\n",
    "plot_confusion_matrix(best_model, X_test, y_test)\n",
    "report = classification_report(y_test, test_predictions, output_dict=True)\n",
    "report_df = pd.DataFrame(report)\n",
    "report_df\n",
    "plt.savefig('results/confusion_matrix.png')\n",
    "plt.clf()\n",
    "\n",
    "# compute and save roc curve\n",
    "fpr, tpr, thresholds = roc_curve(\n",
    "    y_test, best_model.predict_proba(X_test)[:, 1])\n",
    "plt.plot(fpr, tpr)\n",
    "plt.title('ROC report')\n",
    "plt.plot((0, 1), (0, 1), '--k')\n",
    "plt.xlabel('false positive rate')\n",
    "plt.ylabel('true positive rate')\n"
   ]
  },
  {
   "cell_type": "code",
   "execution_count": 31,
   "metadata": {},
   "outputs": [
    {
     "data": {
      "text/plain": [
       "<sklearn.metrics._plot.confusion_matrix.ConfusionMatrixDisplay at 0x1a26632320>"
      ]
     },
     "execution_count": 31,
     "metadata": {},
     "output_type": "execute_result"
    },
    {
     "data": {
      "image/png": "[encoded data removed]",
      "text/plain": [
       "<Figure size 432x288 with 2 Axes>"
      ]
     },
     "metadata": {
      "needs_background": "light"
     },
     "output_type": "display_data"
    }
   ],
   "source": [
    "plot_confusion_matrix(best_model, X_test, y_test)\n"
   ]
  },
  {
   "cell_type": "code",
   "execution_count": 22,
   "metadata": {},
   "outputs": [
    {
     "data": {
      "text/html": [
       "<div>\n",
       "<style scoped>\n",
       "    .dataframe tbody tr th:only-of-type {\n",
       "        vertical-align: middle;\n",
       "    }\n",
       "\n",
       "    .dataframe tbody tr th {\n",
       "        vertical-align: top;\n",
       "    }\n",
       "\n",
       "    .dataframe thead th {\n",
       "        text-align: right;\n",
       "    }\n",
       "</style>\n",
       "<table border=\"1\" class=\"dataframe\">\n",
       "  <thead>\n",
       "    <tr style=\"text-align: right;\">\n",
       "      <th></th>\n",
       "      <th>result</th>\n",
       "    </tr>\n",
       "  </thead>\n",
       "  <tbody>\n",
       "    <tr>\n",
       "      <th>test accuracy</th>\n",
       "      <td>0.687200</td>\n",
       "    </tr>\n",
       "    <tr>\n",
       "      <th>train accuracy</th>\n",
       "      <td>0.684844</td>\n",
       "    </tr>\n",
       "    <tr>\n",
       "      <th>test recall</th>\n",
       "      <td>0.658610</td>\n",
       "    </tr>\n",
       "    <tr>\n",
       "      <th>test precision</th>\n",
       "      <td>0.379659</td>\n",
       "    </tr>\n",
       "    <tr>\n",
       "      <th>auc score</th>\n",
       "      <td>0.723004</td>\n",
       "    </tr>\n",
       "  </tbody>\n",
       "</table>\n",
       "</div>"
      ],
      "text/plain": [
       "                  result\n",
       "test accuracy   0.687200\n",
       "train accuracy  0.684844\n",
       "test recall     0.658610\n",
       "test precision  0.379659\n",
       "auc score       0.723004"
      ]
     },
     "execution_count": 22,
     "metadata": {},
     "output_type": "execute_result"
    }
   ],
   "source": [
    "accuracies_df"
   ]
  }
 ],
 "metadata": {
  "kernelspec": {
   "display_name": "Python 3",
   "language": "python",
   "name": "python3"
  },
  "language_info": {
   "codemirror_mode": {
    "name": "ipython",
    "version": 3
   },
   "file_extension": ".py",
   "mimetype": "text/x-python",
   "name": "python",
   "nbconvert_exporter": "python",
   "pygments_lexer": "ipython3",
   "version": "3.7.3"
  }
 },
 "nbformat": 4,
 "nbformat_minor": 4
}
